{
 "cells": [
  {
   "cell_type": "code",
   "execution_count": 1,
   "id": "089a1c16-7b20-4c96-8fac-ba6f19634213",
   "metadata": {},
   "outputs": [],
   "source": [
    "import numpy as np\n",
    "import pandas as pd\n",
    "from statsmodels.tsa.stattools import adfuller, pacf\n",
    "from statsmodels.tsa.ar_model import AutoReg\n",
    "import matplotlib.pyplot as plt\n",
    "from sklearn.linear_model import LinearRegression\n",
    "from sklearn.model_selection import train_test_split\n",
    "from sklearn.metrics import mean_squared_error"
   ]
  },
  {
   "cell_type": "code",
   "execution_count": 30,
   "id": "b007d0fb-cdc3-46e5-bac3-ade49c0aa452",
   "metadata": {},
   "outputs": [],
   "source": [
    "final_coef = []\n",
    "final_int = 0"
   ]
  },
  {
   "cell_type": "code",
   "execution_count": 18,
   "id": "fca50ba6-67e1-4500-9cc5-a6ca056aa9e2",
   "metadata": {},
   "outputs": [
    {
     "data": {
      "text/html": [
       "<div>\n",
       "<style scoped>\n",
       "    .dataframe tbody tr th:only-of-type {\n",
       "        vertical-align: middle;\n",
       "    }\n",
       "\n",
       "    .dataframe tbody tr th {\n",
       "        vertical-align: top;\n",
       "    }\n",
       "\n",
       "    .dataframe thead th {\n",
       "        text-align: right;\n",
       "    }\n",
       "</style>\n",
       "<table border=\"1\" class=\"dataframe\">\n",
       "  <thead>\n",
       "    <tr style=\"text-align: right;\">\n",
       "      <th></th>\n",
       "      <th>price</th>\n",
       "      <th>price_lag1</th>\n",
       "      <th>price_lag2</th>\n",
       "      <th>price_lag3</th>\n",
       "      <th>price_lag4</th>\n",
       "      <th>price_50</th>\n",
       "    </tr>\n",
       "  </thead>\n",
       "  <tbody>\n",
       "    <tr>\n",
       "      <th>9</th>\n",
       "      <td>5042.5</td>\n",
       "      <td>5043.0</td>\n",
       "      <td>5044.0</td>\n",
       "      <td>5043.0</td>\n",
       "      <td>5046.0</td>\n",
       "      <td>-0.000595</td>\n",
       "    </tr>\n",
       "    <tr>\n",
       "      <th>10</th>\n",
       "      <td>5042.5</td>\n",
       "      <td>5042.5</td>\n",
       "      <td>5043.0</td>\n",
       "      <td>5044.0</td>\n",
       "      <td>5043.0</td>\n",
       "      <td>-0.000397</td>\n",
       "    </tr>\n",
       "    <tr>\n",
       "      <th>13</th>\n",
       "      <td>5044.0</td>\n",
       "      <td>5042.5</td>\n",
       "      <td>5042.5</td>\n",
       "      <td>5043.0</td>\n",
       "      <td>5044.0</td>\n",
       "      <td>-0.000297</td>\n",
       "    </tr>\n",
       "    <tr>\n",
       "      <th>15</th>\n",
       "      <td>5044.0</td>\n",
       "      <td>5044.0</td>\n",
       "      <td>5042.5</td>\n",
       "      <td>5042.5</td>\n",
       "      <td>5043.0</td>\n",
       "      <td>-0.001488</td>\n",
       "    </tr>\n",
       "    <tr>\n",
       "      <th>17</th>\n",
       "      <td>5042.5</td>\n",
       "      <td>5044.0</td>\n",
       "      <td>5044.0</td>\n",
       "      <td>5042.5</td>\n",
       "      <td>5042.5</td>\n",
       "      <td>-0.000397</td>\n",
       "    </tr>\n",
       "    <tr>\n",
       "      <th>...</th>\n",
       "      <td>...</td>\n",
       "      <td>...</td>\n",
       "      <td>...</td>\n",
       "      <td>...</td>\n",
       "      <td>...</td>\n",
       "      <td>...</td>\n",
       "    </tr>\n",
       "    <tr>\n",
       "      <th>19890</th>\n",
       "      <td>5044.0</td>\n",
       "      <td>5044.5</td>\n",
       "      <td>5046.0</td>\n",
       "      <td>5045.5</td>\n",
       "      <td>5046.0</td>\n",
       "      <td>-0.000496</td>\n",
       "    </tr>\n",
       "    <tr>\n",
       "      <th>19893</th>\n",
       "      <td>5044.5</td>\n",
       "      <td>5044.0</td>\n",
       "      <td>5044.5</td>\n",
       "      <td>5046.0</td>\n",
       "      <td>5045.5</td>\n",
       "      <td>-0.000496</td>\n",
       "    </tr>\n",
       "    <tr>\n",
       "      <th>19895</th>\n",
       "      <td>5044.5</td>\n",
       "      <td>5044.5</td>\n",
       "      <td>5044.0</td>\n",
       "      <td>5044.5</td>\n",
       "      <td>5046.0</td>\n",
       "      <td>-0.000793</td>\n",
       "    </tr>\n",
       "    <tr>\n",
       "      <th>19897</th>\n",
       "      <td>5043.0</td>\n",
       "      <td>5044.5</td>\n",
       "      <td>5044.5</td>\n",
       "      <td>5044.0</td>\n",
       "      <td>5044.5</td>\n",
       "      <td>-0.000694</td>\n",
       "    </tr>\n",
       "    <tr>\n",
       "      <th>19898</th>\n",
       "      <td>5043.0</td>\n",
       "      <td>5043.0</td>\n",
       "      <td>5044.5</td>\n",
       "      <td>5044.5</td>\n",
       "      <td>5044.0</td>\n",
       "      <td>-0.000893</td>\n",
       "    </tr>\n",
       "  </tbody>\n",
       "</table>\n",
       "<p>9946 rows × 6 columns</p>\n",
       "</div>"
      ],
      "text/plain": [
       "        price  price_lag1  price_lag2  price_lag3  price_lag4  price_50\n",
       "9      5042.5      5043.0      5044.0      5043.0      5046.0 -0.000595\n",
       "10     5042.5      5042.5      5043.0      5044.0      5043.0 -0.000397\n",
       "13     5044.0      5042.5      5042.5      5043.0      5044.0 -0.000297\n",
       "15     5044.0      5044.0      5042.5      5042.5      5043.0 -0.001488\n",
       "17     5042.5      5044.0      5044.0      5042.5      5042.5 -0.000397\n",
       "...       ...         ...         ...         ...         ...       ...\n",
       "19890  5044.0      5044.5      5046.0      5045.5      5046.0 -0.000496\n",
       "19893  5044.5      5044.0      5044.5      5046.0      5045.5 -0.000496\n",
       "19895  5044.5      5044.5      5044.0      5044.5      5046.0 -0.000793\n",
       "19897  5043.0      5044.5      5044.5      5044.0      5044.5 -0.000694\n",
       "19898  5043.0      5043.0      5044.5      5044.5      5044.0 -0.000893\n",
       "\n",
       "[9946 rows x 6 columns]"
      ]
     },
     "execution_count": 18,
     "metadata": {},
     "output_type": "execute_result"
    }
   ],
   "source": [
    "original_data = pd.read_csv('prices_round_1_day_-1.csv', delimiter = ';')\n",
    "data = original_data[original_data['product'] == 'STARFRUIT']['mid_price']\n",
    "df = pd.DataFrame()\n",
    "df['price']=data\n",
    "df['price_lag1']=df['price'].shift(1)\n",
    "df['price_lag2']=df['price'].shift(2)\n",
    "df['price_lag3']=df['price'].shift(3)\n",
    "df['price_lag4']=df['price'].shift(4)\n",
    "df['price_50'] = np.log1p(original_data[original_data['product'] == 'STARFRUIT']['mid_price'].pct_change(50)).shift(-50)\n",
    "df.dropna(inplace=True)\n",
    "df"
   ]
  },
  {
   "cell_type": "code",
   "execution_count": 29,
   "id": "2991506b-ce7d-498d-9e89-213debe1dd5d",
   "metadata": {},
   "outputs": [
    {
     "ename": "KeyError",
     "evalue": "'product'",
     "output_type": "error",
     "traceback": [
      "\u001b[0;31m---------------------------------------------------------------------------\u001b[0m",
      "\u001b[0;31mKeyError\u001b[0m                                  Traceback (most recent call last)",
      "File \u001b[0;32m~/miniconda3/lib/python3.12/site-packages/pandas/core/indexes/base.py:3805\u001b[0m, in \u001b[0;36mIndex.get_loc\u001b[0;34m(self, key)\u001b[0m\n\u001b[1;32m   3804\u001b[0m \u001b[38;5;28;01mtry\u001b[39;00m:\n\u001b[0;32m-> 3805\u001b[0m     \u001b[38;5;28;01mreturn\u001b[39;00m \u001b[38;5;28;43mself\u001b[39;49m\u001b[38;5;241;43m.\u001b[39;49m\u001b[43m_engine\u001b[49m\u001b[38;5;241;43m.\u001b[39;49m\u001b[43mget_loc\u001b[49m\u001b[43m(\u001b[49m\u001b[43mcasted_key\u001b[49m\u001b[43m)\u001b[49m\n\u001b[1;32m   3806\u001b[0m \u001b[38;5;28;01mexcept\u001b[39;00m \u001b[38;5;167;01mKeyError\u001b[39;00m \u001b[38;5;28;01mas\u001b[39;00m err:\n",
      "File \u001b[0;32mindex.pyx:167\u001b[0m, in \u001b[0;36mpandas._libs.index.IndexEngine.get_loc\u001b[0;34m()\u001b[0m\n",
      "File \u001b[0;32mindex.pyx:175\u001b[0m, in \u001b[0;36mpandas._libs.index.IndexEngine.get_loc\u001b[0;34m()\u001b[0m\n",
      "File \u001b[0;32mpandas/_libs/index_class_helper.pxi:70\u001b[0m, in \u001b[0;36mpandas._libs.index.Int64Engine._check_type\u001b[0;34m()\u001b[0m\n",
      "\u001b[0;31mKeyError\u001b[0m: 'product'",
      "\nThe above exception was the direct cause of the following exception:\n",
      "\u001b[0;31mKeyError\u001b[0m                                  Traceback (most recent call last)",
      "Cell \u001b[0;32mIn[29], line 10\u001b[0m\n\u001b[1;32m      8\u001b[0m df[\u001b[38;5;124m'\u001b[39m\u001b[38;5;124mreturns_lag3\u001b[39m\u001b[38;5;124m'\u001b[39m]\u001b[38;5;241m=\u001b[39mdf[\u001b[38;5;124m'\u001b[39m\u001b[38;5;124mprice\u001b[39m\u001b[38;5;124m'\u001b[39m]\u001b[38;5;241m.\u001b[39mshift(\u001b[38;5;241m3\u001b[39m)\n\u001b[1;32m      9\u001b[0m df[\u001b[38;5;124m'\u001b[39m\u001b[38;5;124mreturns_lag4\u001b[39m\u001b[38;5;124m'\u001b[39m]\u001b[38;5;241m=\u001b[39mdf[\u001b[38;5;124m'\u001b[39m\u001b[38;5;124mprice\u001b[39m\u001b[38;5;124m'\u001b[39m]\u001b[38;5;241m.\u001b[39mshift(\u001b[38;5;241m4\u001b[39m)\n\u001b[0;32m---> 10\u001b[0m df[\u001b[38;5;124m'\u001b[39m\u001b[38;5;124mreturns_50\u001b[39m\u001b[38;5;124m'\u001b[39m] \u001b[38;5;241m=\u001b[39m np\u001b[38;5;241m.\u001b[39mlog1p(data[\u001b[43mdata\u001b[49m\u001b[43m[\u001b[49m\u001b[38;5;124;43m'\u001b[39;49m\u001b[38;5;124;43mproduct\u001b[39;49m\u001b[38;5;124;43m'\u001b[39;49m\u001b[43m]\u001b[49m \u001b[38;5;241m==\u001b[39m \u001b[38;5;124m'\u001b[39m\u001b[38;5;124mSTARFRUIT\u001b[39m\u001b[38;5;124m'\u001b[39m][\u001b[38;5;124m'\u001b[39m\u001b[38;5;124mmid_price\u001b[39m\u001b[38;5;124m'\u001b[39m]\u001b[38;5;241m.\u001b[39mpct_change(\u001b[38;5;241m50\u001b[39m))\u001b[38;5;241m.\u001b[39mshift(\u001b[38;5;241m-\u001b[39m\u001b[38;5;241m50\u001b[39m)\n\u001b[1;32m     11\u001b[0m df\u001b[38;5;241m.\u001b[39mdropna(inplace\u001b[38;5;241m=\u001b[39m\u001b[38;5;28;01mTrue\u001b[39;00m)\n\u001b[1;32m     12\u001b[0m X \u001b[38;5;241m=\u001b[39m df[[\u001b[38;5;124m'\u001b[39m\u001b[38;5;124mreturns_lag1\u001b[39m\u001b[38;5;124m'\u001b[39m, \u001b[38;5;124m'\u001b[39m\u001b[38;5;124mreturns_lag2\u001b[39m\u001b[38;5;124m'\u001b[39m, \u001b[38;5;124m'\u001b[39m\u001b[38;5;124mreturns_lag3\u001b[39m\u001b[38;5;124m'\u001b[39m, \u001b[38;5;124m'\u001b[39m\u001b[38;5;124mreturns_lag4\u001b[39m\u001b[38;5;124m'\u001b[39m]]\n",
      "File \u001b[0;32m~/miniconda3/lib/python3.12/site-packages/pandas/core/series.py:1112\u001b[0m, in \u001b[0;36mSeries.__getitem__\u001b[0;34m(self, key)\u001b[0m\n\u001b[1;32m   1109\u001b[0m     \u001b[38;5;28;01mreturn\u001b[39;00m \u001b[38;5;28mself\u001b[39m\u001b[38;5;241m.\u001b[39m_values[key]\n\u001b[1;32m   1111\u001b[0m \u001b[38;5;28;01melif\u001b[39;00m key_is_scalar:\n\u001b[0;32m-> 1112\u001b[0m     \u001b[38;5;28;01mreturn\u001b[39;00m \u001b[38;5;28;43mself\u001b[39;49m\u001b[38;5;241;43m.\u001b[39;49m\u001b[43m_get_value\u001b[49m\u001b[43m(\u001b[49m\u001b[43mkey\u001b[49m\u001b[43m)\u001b[49m\n\u001b[1;32m   1114\u001b[0m \u001b[38;5;66;03m# Convert generator to list before going through hashable part\u001b[39;00m\n\u001b[1;32m   1115\u001b[0m \u001b[38;5;66;03m# (We will iterate through the generator there to check for slices)\u001b[39;00m\n\u001b[1;32m   1116\u001b[0m \u001b[38;5;28;01mif\u001b[39;00m is_iterator(key):\n",
      "File \u001b[0;32m~/miniconda3/lib/python3.12/site-packages/pandas/core/series.py:1228\u001b[0m, in \u001b[0;36mSeries._get_value\u001b[0;34m(self, label, takeable)\u001b[0m\n\u001b[1;32m   1225\u001b[0m     \u001b[38;5;28;01mreturn\u001b[39;00m \u001b[38;5;28mself\u001b[39m\u001b[38;5;241m.\u001b[39m_values[label]\n\u001b[1;32m   1227\u001b[0m \u001b[38;5;66;03m# Similar to Index.get_value, but we do not fall back to positional\u001b[39;00m\n\u001b[0;32m-> 1228\u001b[0m loc \u001b[38;5;241m=\u001b[39m \u001b[38;5;28;43mself\u001b[39;49m\u001b[38;5;241;43m.\u001b[39;49m\u001b[43mindex\u001b[49m\u001b[38;5;241;43m.\u001b[39;49m\u001b[43mget_loc\u001b[49m\u001b[43m(\u001b[49m\u001b[43mlabel\u001b[49m\u001b[43m)\u001b[49m\n\u001b[1;32m   1230\u001b[0m \u001b[38;5;28;01mif\u001b[39;00m is_integer(loc):\n\u001b[1;32m   1231\u001b[0m     \u001b[38;5;28;01mreturn\u001b[39;00m \u001b[38;5;28mself\u001b[39m\u001b[38;5;241m.\u001b[39m_values[loc]\n",
      "File \u001b[0;32m~/miniconda3/lib/python3.12/site-packages/pandas/core/indexes/base.py:3812\u001b[0m, in \u001b[0;36mIndex.get_loc\u001b[0;34m(self, key)\u001b[0m\n\u001b[1;32m   3807\u001b[0m     \u001b[38;5;28;01mif\u001b[39;00m \u001b[38;5;28misinstance\u001b[39m(casted_key, \u001b[38;5;28mslice\u001b[39m) \u001b[38;5;129;01mor\u001b[39;00m (\n\u001b[1;32m   3808\u001b[0m         \u001b[38;5;28misinstance\u001b[39m(casted_key, abc\u001b[38;5;241m.\u001b[39mIterable)\n\u001b[1;32m   3809\u001b[0m         \u001b[38;5;129;01mand\u001b[39;00m \u001b[38;5;28many\u001b[39m(\u001b[38;5;28misinstance\u001b[39m(x, \u001b[38;5;28mslice\u001b[39m) \u001b[38;5;28;01mfor\u001b[39;00m x \u001b[38;5;129;01min\u001b[39;00m casted_key)\n\u001b[1;32m   3810\u001b[0m     ):\n\u001b[1;32m   3811\u001b[0m         \u001b[38;5;28;01mraise\u001b[39;00m InvalidIndexError(key)\n\u001b[0;32m-> 3812\u001b[0m     \u001b[38;5;28;01mraise\u001b[39;00m \u001b[38;5;167;01mKeyError\u001b[39;00m(key) \u001b[38;5;28;01mfrom\u001b[39;00m \u001b[38;5;21;01merr\u001b[39;00m\n\u001b[1;32m   3813\u001b[0m \u001b[38;5;28;01mexcept\u001b[39;00m \u001b[38;5;167;01mTypeError\u001b[39;00m:\n\u001b[1;32m   3814\u001b[0m     \u001b[38;5;66;03m# If we have a listlike key, _check_indexing_error will raise\u001b[39;00m\n\u001b[1;32m   3815\u001b[0m     \u001b[38;5;66;03m#  InvalidIndexError. Otherwise we fall through and re-raise\u001b[39;00m\n\u001b[1;32m   3816\u001b[0m     \u001b[38;5;66;03m#  the TypeError.\u001b[39;00m\n\u001b[1;32m   3817\u001b[0m     \u001b[38;5;28mself\u001b[39m\u001b[38;5;241m.\u001b[39m_check_indexing_error(key)\n",
      "\u001b[0;31mKeyError\u001b[0m: 'product'"
     ]
    }
   ],
   "source": [
    "for filepath in ['prices_round_1_day_-1', 'prices_round_1_day_-2', 'prices_round_1_day_0']:\n",
    "    data = pd.read_csv(f'{filepath}.csv', delimiter = ';')\n",
    "    data = data[data['product'] == 'STARFRUIT']['mid_price'].pct_change()\n",
    "    df = pd.DataFrame()\n",
    "    df['price']=np.log1p(data)\n",
    "    df['returns_lag1']=df['price'].shift(1)\n",
    "    df['returns_lag2']=df['price'].shift(2)\n",
    "    df['returns_lag3']=df['price'].shift(3)\n",
    "    df['returns_lag4']=df['price'].shift(4)\n",
    "    df['returns_50'] = np.log1p(data[data['product'] == 'STARFRUIT']['mid_price'].pct_change(50)).shift(-50)\n",
    "    df.dropna(inplace=True)\n",
    "    X = df[['returns_lag1', 'returns_lag2', 'returns_lag3', 'returns_lag4']]\n",
    "    y = df['price']\n",
    "    X_train, X_test, y_train, y_test = train_test_split(X, y, test_size=0.2, random_state=42)\n",
    "    \n",
    "    # Running a linear regression\n",
    "    model = LinearRegression()\n",
    "    model.fit(X_train, y_train)\n",
    "    \n",
    "    # Coefficients and intercept\n",
    "    coefficients = model.coef_\n",
    "    intercept = model.intercept_\n",
    "    final_coef.append(model.coef_.tolist())\n",
    "    final_int += intercept "
   ]
  },
  {
   "cell_type": "code",
   "execution_count": 33,
   "id": "2f180be0-f563-42b6-94c2-8e5b79a900b9",
   "metadata": {},
   "outputs": [
    {
     "name": "stdout",
     "output_type": "stream",
     "text": [
      "prices_round_1_day_-1 [[0.33131025813715154, 0.26368179628919064, 0.22441039135738333, 0.17790392975166422]]\n",
      "prices_round_1_day_-2 [[0.33131025813715154, 0.26368179628919064, 0.22441039135738333, 0.17790392975166422], [0.33780155328198286, 0.2556087032175788, 0.1963882124089581, 0.2097774897401313]]\n",
      "prices_round_1_day_0 [[0.33131025813715154, 0.26368179628919064, 0.22441039135738333, 0.17790392975166422], [0.33780155328198286, 0.2556087032175788, 0.1963882124089581, 0.2097774897401313], [0.3375294642425579, 0.26181038631777537, 0.19284218357482144, 0.20392870580237416]]\n"
     ]
    }
   ],
   "source": [
    "#Regressing on prices\n",
    "final_coef = []\n",
    "final_int = 0\n",
    "for filepath in ['prices_round_1_day_-1', 'prices_round_1_day_-2', 'prices_round_1_day_0']:\n",
    "    data = pd.read_csv(f'{filepath}.csv', delimiter = ';')\n",
    "    data = data[data['product'] == 'STARFRUIT']['mid_price']\n",
    "    df = pd.DataFrame()\n",
    "    df['price'] = data\n",
    "    df['price_lag1']=df['price'].shift(1)\n",
    "    df['price_lag2']=df['price'].shift(2)\n",
    "    df['price_lag3']=df['price'].shift(3)\n",
    "    df['price_lag4']=df['price'].shift(4)\n",
    "    df.dropna(inplace=True)\n",
    "    X = df[['price_lag1', 'price_lag2', 'price_lag3', 'price_lag4']]\n",
    "    y = df['price']\n",
    "    X_train, X_test, y_train, y_test = train_test_split(X, y, test_size=0.2, random_state=42)\n",
    "    \n",
    "    # Running a linear regression\n",
    "    model = LinearRegression()\n",
    "    model.fit(X_train, y_train)\n",
    "    \n",
    "    # Coefficients and intercept\n",
    "    coefficients = model.coef_\n",
    "    intercept = model.intercept_\n",
    "    final_coef.append(model.coef_.tolist())\n",
    "    final_int += intercept \n",
    "    print(filepath, final_coef)"
   ]
  },
  {
   "cell_type": "code",
   "execution_count": 34,
   "id": "fb804881-721f-4e05-ace6-a10e39662845",
   "metadata": {},
   "outputs": [],
   "source": [
    "final_int /= 3\n",
    "final_coefs = [sum(col) / len(col) for col in zip(*final_coef)]"
   ]
  },
  {
   "cell_type": "code",
   "execution_count": 35,
   "id": "599e8cb3-983b-419e-ae81-fc82215831cf",
   "metadata": {},
   "outputs": [
    {
     "data": {
      "text/plain": [
       "11.802383435338925"
      ]
     },
     "execution_count": 35,
     "metadata": {},
     "output_type": "execute_result"
    }
   ],
   "source": [
    "final_int"
   ]
  },
  {
   "cell_type": "code",
   "execution_count": 36,
   "id": "890faadc-ea7f-4b86-ab75-9a3d1ac85ab3",
   "metadata": {},
   "outputs": [
    {
     "data": {
      "text/plain": [
       "[0.33554709188723075,\n",
       " 0.26036696194151493,\n",
       " 0.20454692911372097,\n",
       " 0.19720337509805655]"
      ]
     },
     "execution_count": 36,
     "metadata": {},
     "output_type": "execute_result"
    }
   ],
   "source": [
    "final_coefs"
   ]
  },
  {
   "cell_type": "code",
   "execution_count": 8,
   "id": "13902f64-2047-4da0-80ae-95f50c270861",
   "metadata": {},
   "outputs": [],
   "source": [
    "import numpy as np\n",
    "import pandas as pd\n",
    "from statsmodels.tsa.stattools import adfuller, pacf\n",
    "from statsmodels.tsa.ar_model import AutoReg\n",
    "import matplotlib.pyplot as plt\n",
    "\n",
    "def make_stationary(series):\n",
    "    \"\"\" Apply differencing until the series passes the ADF test for stationarity. \"\"\"\n",
    "    result = adfuller(series)\n",
    "    p_value = result[1]\n",
    "    if p_value < 0.05:\n",
    "        return series, 0  # Already stationary\n",
    "    diff_count = 0\n",
    "    while p_value >= 0.05:\n",
    "        series = series.diff().dropna()\n",
    "        result = adfuller(series)\n",
    "        p_value = result[1]\n",
    "        diff_count += 1\n",
    "    return series, diff_count\n",
    "\n",
    "def fit_ar_model(series, lags):\n",
    "    \"\"\" Fit an AR model and return the coefficients. \"\"\"\n",
    "    model = AutoReg(series, lags=lags, old_names=False)\n",
    "    model_fitted = model.fit()\n",
    "    return model_fitted.params\n",
    "\n",
    "def analyze_log_price(log_price):\n",
    "    \"\"\" Analyze log price, make series stationary, plot PACF, and fit AR model. \"\"\"\n",
    "    stationary_series, diff_count = make_stationary(log_price)\n",
    "    lag_pacf = pacf(stationary_series, nlags=20, method='ols')\n",
    "\n",
    "    # Plotting the PACF\n",
    "    plt.figure(figsize=(10, 5))\n",
    "    plt.stem(range(len(lag_pacf)), lag_pacf)\n",
    "    plt.title('Partial Autocorrelation Function (PACF)')\n",
    "    plt.xlabel('Lag')\n",
    "    plt.ylabel('Partial Autocorrelation')\n",
    "    plt.show()\n",
    "\n",
    "    # Ask user for the AR model order based on the PACF plot\n",
    "    order = int(input(\"Enter the order of the AR model based on the PACF plot: \"))\n",
    "    coefficients = fit_ar_model(stationary_series, order)\n",
    "    \n",
    "    return coefficients"
   ]
  },
  {
   "cell_type": "code",
   "execution_count": 9,
   "id": "832e9272-8f15-4928-aba5-2509dbea243d",
   "metadata": {},
   "outputs": [],
   "source": [
    "ar_coefs = []\n",
    "ar_int = 0"
   ]
  },
  {
   "cell_type": "code",
   "execution_count": 10,
   "id": "1d1c1e8d-70a8-46aa-bdf5-63c2ddea8e08",
   "metadata": {},
   "outputs": [
    {
     "data": {
      "image/png": "[encoded data removed]",
      "text/plain": [
       "<Figure size 1000x500 with 1 Axes>"
      ]
     },
     "metadata": {},
     "output_type": "display_data"
    },
    {
     "name": "stdin",
     "output_type": "stream",
     "text": [
      "Enter the order of the AR model based on the PACF plot:  6\n"
     ]
    },
    {
     "name": "stderr",
     "output_type": "stream",
     "text": [
      "/Users/ommehta/miniconda3/lib/python3.12/site-packages/statsmodels/tsa/base/tsa_model.py:473: ValueWarning: An unsupported index was provided and will be ignored when e.g. forecasting.\n",
      "  self._init_dates(dates, freq)\n",
      "/var/folders/q1/n178rnzj65bdl86f8t6tlscc0000gq/T/ipykernel_14834/1329572837.py:8: FutureWarning: Series.__getitem__ treating keys as positions is deprecated. In a future version, integer keys will always be treated as labels (consistent with DataFrame behavior). To access a value by position, use `ser.iloc[pos]`\n",
      "  ar_int += output[0]\n"
     ]
    },
    {
     "data": {
      "image/png": "[encoded data removed]",
      "text/plain": [
       "<Figure size 1000x500 with 1 Axes>"
      ]
     },
     "metadata": {},
     "output_type": "display_data"
    },
    {
     "name": "stdin",
     "output_type": "stream",
     "text": [
      "Enter the order of the AR model based on the PACF plot:  6\n"
     ]
    },
    {
     "name": "stderr",
     "output_type": "stream",
     "text": [
      "/Users/ommehta/miniconda3/lib/python3.12/site-packages/statsmodels/tsa/base/tsa_model.py:473: ValueWarning: An unsupported index was provided and will be ignored when e.g. forecasting.\n",
      "  self._init_dates(dates, freq)\n",
      "/var/folders/q1/n178rnzj65bdl86f8t6tlscc0000gq/T/ipykernel_14834/1329572837.py:8: FutureWarning: Series.__getitem__ treating keys as positions is deprecated. In a future version, integer keys will always be treated as labels (consistent with DataFrame behavior). To access a value by position, use `ser.iloc[pos]`\n",
      "  ar_int += output[0]\n"
     ]
    },
    {
     "data": {
      "image/png": "[encoded data removed]",
      "text/plain": [
       "<Figure size 1000x500 with 1 Axes>"
      ]
     },
     "metadata": {},
     "output_type": "display_data"
    },
    {
     "name": "stdin",
     "output_type": "stream",
     "text": [
      "Enter the order of the AR model based on the PACF plot:  6\n"
     ]
    },
    {
     "name": "stdout",
     "output_type": "stream",
     "text": [
      "All coefs:  [returns.L1   -0.706367\n",
      "returns.L2   -0.494965\n",
      "returns.L3   -0.333115\n",
      "returns.L4   -0.237602\n",
      "returns.L5   -0.132062\n",
      "returns.L6   -0.052941\n",
      "dtype: float64, returns.L1   -0.709587\n",
      "returns.L2   -0.504613\n",
      "returns.L3   -0.363722\n",
      "returns.L4   -0.248150\n",
      "returns.L5   -0.138744\n",
      "returns.L6   -0.066787\n",
      "dtype: float64, returns.L1   -0.694820\n",
      "returns.L2   -0.475921\n",
      "returns.L3   -0.335840\n",
      "returns.L4   -0.218473\n",
      "returns.L5   -0.142192\n",
      "returns.L6   -0.065051\n",
      "dtype: float64]\n",
      "AR Coefs:  [-0.703591491407734, -0.4918330007028236, -0.3442257990494724, -0.23474182959132742, -0.13766592122288243, -0.06159321908371221]\n",
      "AR Intercept:  1.0285830994358876e-06\n"
     ]
    },
    {
     "name": "stderr",
     "output_type": "stream",
     "text": [
      "/Users/ommehta/miniconda3/lib/python3.12/site-packages/statsmodels/tsa/base/tsa_model.py:473: ValueWarning: An unsupported index was provided and will be ignored when e.g. forecasting.\n",
      "  self._init_dates(dates, freq)\n",
      "/var/folders/q1/n178rnzj65bdl86f8t6tlscc0000gq/T/ipykernel_14834/1329572837.py:8: FutureWarning: Series.__getitem__ treating keys as positions is deprecated. In a future version, integer keys will always be treated as labels (consistent with DataFrame behavior). To access a value by position, use `ser.iloc[pos]`\n",
      "  ar_int += output[0]\n"
     ]
    }
   ],
   "source": [
    "for filepath in ['prices_round_1_day_-1', 'prices_round_1_day_-2', 'prices_round_1_day_0']:\n",
    "    data = pd.read_csv(f'{filepath}.csv', delimiter = ';')\n",
    "    data = data[data['product'] == 'STARFRUIT']['mid_price'].pct_change()\n",
    "    df = pd.DataFrame()\n",
    "    df['price']=np.log1p(data).dropna()\n",
    "    output = analyze_log_price(df['price'])\n",
    "    ar_coefs.append(output[1:])\n",
    "    ar_int += output[0]\n",
    "\n",
    "print('All coefs: ', ar_coefs)\n",
    "final_coefs_ar = [sum(col) / len(col) for col in zip(*ar_coefs)]\n",
    "print('AR Coefs: ', final_coefs_ar)\n",
    "print('AR Intercept: ', ar_int/3)"
   ]
  },
  {
   "cell_type": "code",
   "execution_count": null,
   "id": "462b7a2b-9922-47b0-a470-c8ff0241ea9d",
   "metadata": {},
   "outputs": [],
   "source": []
  }
 ],
 "metadata": {
  "kernelspec": {
   "display_name": "Python 3 (ipykernel)",
   "language": "python",
   "name": "python3"
  },
  "language_info": {
   "codemirror_mode": {
    "name": "ipython",
    "version": 3
   },
   "file_extension": ".py",
   "mimetype": "text/x-python",
   "name": "python",
   "nbconvert_exporter": "python",
   "pygments_lexer": "ipython3",
   "version": "3.12.1"
  }
 },
 "nbformat": 4,
 "nbformat_minor": 5
}
